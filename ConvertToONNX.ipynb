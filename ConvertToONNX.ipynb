{
 "cells": [
  {
   "cell_type": "code",
   "execution_count": 2,
   "id": "9ffb2c9f-98ea-44d5-a14e-d492ed91e20d",
   "metadata": {},
   "outputs": [
    {
     "name": "stdout",
     "output_type": "stream",
     "text": [
      "2.5.1+cu124\n",
      "0.1.0.dev20241216\n",
      "1.19.2\n"
     ]
    }
   ],
   "source": [
    "import torch\n",
    "print(torch.__version__)\n",
    "\n",
    "import onnxscript\n",
    "print(onnxscript.__version__)\n",
    "\n",
    "from onnxscript import opset18  # opset 18 is the latest (and only) supported version for now\n",
    "\n",
    "import onnxruntime\n",
    "print(onnxruntime.__version__)"
   ]
  },
  {
   "cell_type": "code",
   "execution_count": 3,
   "id": "0fd9d607-6f58-456c-8efa-27ac2a5ffbaa",
   "metadata": {},
   "outputs": [],
   "source": [
    "import torch\n",
    "import torch.nn as nn\n",
    "import torch.nn.functional as F"
   ]
  },
  {
   "cell_type": "code",
   "execution_count": 18,
   "id": "a1b91441-a215-455b-847e-cd9580020242",
   "metadata": {
    "scrolled": true
   },
   "outputs": [
    {
     "name": "stderr",
     "output_type": "stream",
     "text": [
      "/home/balezz/PycharmProjects/VKR_2026/.venv/lib/python3.9/site-packages/torchvision/models/_utils.py:208: UserWarning: The parameter 'pretrained' is deprecated since 0.13 and may be removed in the future, please use 'weights' instead.\n",
      "  warnings.warn(\n",
      "/home/balezz/PycharmProjects/VKR_2026/.venv/lib/python3.9/site-packages/torchvision/models/_utils.py:223: UserWarning: Arguments other than a weight enum or `None` for 'weights' are deprecated since 0.13 and may be removed in the future. The current behavior is equivalent to passing `weights=ResNet18_Weights.IMAGENET1K_V1`. You can also use `weights=ResNet18_Weights.DEFAULT` to get the most up-to-date weights.\n",
      "  warnings.warn(msg)\n",
      "/tmp/ipykernel_73572/2750361320.py:6: FutureWarning: You are using `torch.load` with `weights_only=False` (the current default value), which uses the default pickle module implicitly. It is possible to construct malicious pickle data which will execute arbitrary code during unpickling (See https://github.com/pytorch/pytorch/blob/main/SECURITY.md#untrusted-models for more details). In a future release, the default value for `weights_only` will be flipped to `True`. This limits the functions that could be executed during unpickling. Arbitrary objects will no longer be allowed to be loaded via this mode unless they are explicitly allowlisted by the user via `torch.serialization.add_safe_globals`. We recommend you start setting `weights_only=True` for any use case where you don't have full control of the loaded file. Please open an issue on GitHub for any issues related to this experimental feature.\n",
      "  torch_model.load_state_dict(torch.load(MODEL_PATH))\n",
      "/home/balezz/PycharmProjects/VKR_2026/.venv/lib/python3.9/site-packages/torch/onnx/_internal/_exporter_legacy.py:116: UserWarning: torch.onnx.dynamo_export only implements opset version 18 for now. If you need to use a different opset version, please register them with register_custom_op.\n",
      "  warnings.warn(\n",
      "/home/balezz/PycharmProjects/VKR_2026/.venv/lib/python3.9/site-packages/torch/onnx/_internal/fx/passes/readability.py:52: UserWarning: Attempted to insert a get_attr Node with no underlying reference in the owning GraphModule! Call GraphModule.add_submodule to add the necessary submodule, GraphModule.add_parameter to add the necessary Parameter, or nn.Module.register_buffer to add the necessary buffer\n",
      "  new_node = self.module.graph.get_attr(normalized_name)\n",
      "/home/balezz/PycharmProjects/VKR_2026/.venv/lib/python3.9/site-packages/torch/fx/graph.py:1586: UserWarning: Node model_bn1_running_mean target model/bn1/running_mean model/bn1/running_mean of  does not reference an nn.Module, nn.Parameter, or buffer, which is what 'get_attr' Nodes typically target\n",
      "  warnings.warn(f'Node {node} target {node.target} {atom} of {seen_qualname} does '\n",
      "/home/balezz/PycharmProjects/VKR_2026/.venv/lib/python3.9/site-packages/torch/fx/graph.py:1586: UserWarning: Node model_bn1_running_var target model/bn1/running_var model/bn1/running_var of  does not reference an nn.Module, nn.Parameter, or buffer, which is what 'get_attr' Nodes typically target\n",
      "  warnings.warn(f'Node {node} target {node.target} {atom} of {seen_qualname} does '\n",
      "/home/balezz/PycharmProjects/VKR_2026/.venv/lib/python3.9/site-packages/torch/fx/graph.py:1586: UserWarning: Node model_layer1_0_bn1_running_mean target model/layer1/0/bn1/running_mean model/layer1/0/bn1/running_mean of  does not reference an nn.Module, nn.Parameter, or buffer, which is what 'get_attr' Nodes typically target\n",
      "  warnings.warn(f'Node {node} target {node.target} {atom} of {seen_qualname} does '\n",
      "/home/balezz/PycharmProjects/VKR_2026/.venv/lib/python3.9/site-packages/torch/fx/graph.py:1586: UserWarning: Node model_layer1_0_bn1_running_var target model/layer1/0/bn1/running_var model/layer1/0/bn1/running_var of  does not reference an nn.Module, nn.Parameter, or buffer, which is what 'get_attr' Nodes typically target\n",
      "  warnings.warn(f'Node {node} target {node.target} {atom} of {seen_qualname} does '\n",
      "/home/balezz/PycharmProjects/VKR_2026/.venv/lib/python3.9/site-packages/torch/fx/graph.py:1586: UserWarning: Node model_layer1_0_bn2_running_mean target model/layer1/0/bn2/running_mean model/layer1/0/bn2/running_mean of  does not reference an nn.Module, nn.Parameter, or buffer, which is what 'get_attr' Nodes typically target\n",
      "  warnings.warn(f'Node {node} target {node.target} {atom} of {seen_qualname} does '\n",
      "/home/balezz/PycharmProjects/VKR_2026/.venv/lib/python3.9/site-packages/torch/fx/graph.py:1593: UserWarning: Additional 35 warnings suppressed about get_attr references\n",
      "  warnings.warn(\n"
     ]
    }
   ],
   "source": [
    "from model import PersonalityNet\n",
    "\n",
    "IMAGE_SIZE = 224\n",
    "MODEL_PATH = 'personality_net_v0.pth'\n",
    "torch_model = PersonalityNet(40)\n",
    "torch_model.load_state_dict(torch.load(MODEL_PATH))\n",
    "torch_model.eval()\n",
    "torch_input = torch.randn(1, 3, IMAGE_SIZE, IMAGE_SIZE)\n",
    "onnx_program = torch.onnx.dynamo_export(torch_model, torch_input)"
   ]
  },
  {
   "cell_type": "code",
   "execution_count": 19,
   "id": "15f7de7c-a41c-41a1-8a91-36a46a6a08d6",
   "metadata": {},
   "outputs": [],
   "source": [
    "onnx_program.save(\"personality_net_v0.onnx\")"
   ]
  },
  {
   "cell_type": "code",
   "execution_count": 20,
   "id": "00c456e1-8be6-45c0-b3b2-ed09348e90bf",
   "metadata": {},
   "outputs": [],
   "source": [
    "import onnx\n",
    "onnx_model = onnx.load(\"personality_net_v0.onnx\")\n",
    "onnx.checker.check_model(onnx_model)"
   ]
  },
  {
   "cell_type": "code",
   "execution_count": 21,
   "id": "08ef7d46-a56c-44ec-a2ce-c9ae2bf2c797",
   "metadata": {},
   "outputs": [
    {
     "name": "stdout",
     "output_type": "stream",
     "text": [
      "Input length: 1\n",
      "Sample input: (tensor([[[[ 0.6128,  0.4241, -0.5568,  ...,  0.0998,  0.3581,  1.0123],\n",
      "          [ 0.4136, -0.3911, -0.6002,  ..., -1.9885, -1.4222, -1.9069],\n",
      "          [-1.1729, -1.0350,  0.5237,  ...,  0.8811, -1.8240, -0.8810],\n",
      "          ...,\n",
      "          [ 0.8228, -0.5605,  0.3120,  ...,  1.1548, -0.2013,  0.0983],\n",
      "          [ 1.3331,  1.5856,  0.9334,  ...,  0.3839,  0.0333, -0.5055],\n",
      "          [ 0.7549,  1.5181, -0.0996,  ..., -0.6737, -1.6479,  0.1103]],\n",
      "\n",
      "         [[-0.1834, -2.2012, -0.3332,  ...,  0.1364, -0.1190, -1.8318],\n",
      "          [ 1.0314,  0.5691,  0.3286,  ..., -0.6144, -0.5421, -0.0503],\n",
      "          [ 1.0776, -0.0555, -0.8719,  ...,  0.2611,  1.3041, -2.7974],\n",
      "          ...,\n",
      "          [-0.2891,  0.9216, -0.2106,  ...,  0.6908, -0.4912,  0.0441],\n",
      "          [ 2.0351, -1.7855,  1.2020,  ..., -0.9580,  0.3642,  1.0284],\n",
      "          [-0.1556,  0.7434, -1.1849,  ...,  0.7105, -0.5426, -0.8888]],\n",
      "\n",
      "         [[ 1.6284,  0.1900,  0.3663,  ..., -0.6372,  1.0656,  0.4692],\n",
      "          [ 0.9316,  0.6517,  1.0652,  ...,  0.0619,  0.1161,  0.3916],\n",
      "          [ 1.1062,  1.6278,  0.2656,  ..., -0.3771,  0.9722,  1.7291],\n",
      "          ...,\n",
      "          [-1.2802, -0.1769,  0.0368,  ..., -0.8242,  0.1396,  0.2736],\n",
      "          [ 0.2559,  0.6832, -0.2619,  ..., -0.4289,  0.1872, -0.7146],\n",
      "          [ 0.1742,  0.8576,  0.6979,  ..., -1.9629,  0.8292,  0.0353]]]]),)\n"
     ]
    }
   ],
   "source": [
    "import onnxruntime\n",
    "\n",
    "onnx_input = onnx_program.adapt_torch_inputs_to_onnx(torch_input)\n",
    "print(f\"Input length: {len(onnx_input)}\")\n",
    "print(f\"Sample input: {onnx_input}\")\n",
    "\n",
    "ort_session = onnxruntime.InferenceSession(\"personality_net_v0.onnx\", providers=['CPUExecutionProvider'])\n",
    "\n",
    "def to_numpy(tensor):\n",
    "    return tensor.detach().cpu().numpy() if tensor.requires_grad else tensor.cpu().numpy()\n",
    "\n",
    "onnxruntime_input = {k.name: to_numpy(v) for k, v in zip(ort_session.get_inputs(), onnx_input)}\n",
    "\n",
    "onnxruntime_outputs = ort_session.run(None, onnxruntime_input)\n"
   ]
  },
  {
   "cell_type": "code",
   "execution_count": 22,
   "id": "660369e7-e0d4-4947-8b92-33510c6733da",
   "metadata": {},
   "outputs": [
    {
     "name": "stdout",
     "output_type": "stream",
     "text": [
      "[array([[7.05268979e-03, 9.72339511e-03, 5.19418716e-03, 6.47196174e-03,\n",
      "        4.34219837e-05, 1.13058090e-03, 1.30260646e-01, 1.46382809e-01,\n",
      "        1.07228935e-01, 1.54344141e-02, 9.08637524e-01, 3.37916613e-03,\n",
      "        3.08096409e-04, 8.10871899e-01, 8.22763443e-01, 6.32267892e-01,\n",
      "        2.96709239e-02, 2.85762548e-03, 3.27401459e-01, 1.95557475e-02,\n",
      "        1.79436117e-01, 7.60744214e-02, 1.38558447e-02, 1.48195326e-02,\n",
      "        5.08105695e-01, 5.14079034e-02, 7.07417727e-04, 1.25536919e-01,\n",
      "        1.52488053e-02, 5.96624613e-03, 1.96450055e-02, 7.05426335e-02,\n",
      "        8.11780274e-01, 8.47219229e-02, 4.00946110e-01, 2.69618630e-02,\n",
      "        3.46796751e-01, 5.01515687e-01, 8.49515200e-04, 2.90677607e-01]],\n",
      "      dtype=float32)]\n"
     ]
    }
   ],
   "source": [
    "print(onnxruntime_outputs)"
   ]
  }
 ],
 "metadata": {
  "kernelspec": {
   "display_name": "Python 3 (ipykernel)",
   "language": "python",
   "name": "python3"
  },
  "language_info": {
   "codemirror_mode": {
    "name": "ipython",
    "version": 3
   },
   "file_extension": ".py",
   "mimetype": "text/x-python",
   "name": "python",
   "nbconvert_exporter": "python",
   "pygments_lexer": "ipython3",
   "version": "3.9.19"
  }
 },
 "nbformat": 4,
 "nbformat_minor": 5
}
